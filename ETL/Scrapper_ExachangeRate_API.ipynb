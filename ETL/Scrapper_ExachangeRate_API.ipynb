{
 "cells": [
  {
   "cell_type": "code",
   "execution_count": 2,
   "metadata": {},
   "outputs": [],
   "source": [
    "import requests\n",
    "import pandas as pd"
   ]
  },
  {
   "cell_type": "code",
   "execution_count": 7,
   "metadata": {},
   "outputs": [
    {
     "name": "stdout",
     "output_type": "stream",
     "text": [
      "http://api.exchangeratesapi.io/v1/latest?access_key=e61ca2e1cec53ea625cade99e6e9c497\n"
     ]
    }
   ],
   "source": [
    "#URL Generation\n",
    "def generate_url(API_Key):\n",
    "    base_url = \"http://api.exchangeratesapi.io/v1/latest?access_key=\"\n",
    "    final_url = base_url+API_key\n",
    "    return final_url\n",
    "\n",
    "API_key = \"e61ca2e1cec53ea625cade99e6e9c497\"\n",
    "print(generate_url(API_key))"
   ]
  },
  {
   "cell_type": "code",
   "execution_count": 23,
   "metadata": {},
   "outputs": [],
   "source": [
    "#Making a Request\n",
    "def make_requests():\n",
    "    req = requests.get(generate_url(API_key))\n",
    "    req = req.json()\n",
    "    rates = req['rates']\n",
    "    return rates\n",
    "\n",
    "rates = make_requests()    "
   ]
  },
  {
   "cell_type": "code",
   "execution_count": 67,
   "metadata": {},
   "outputs": [
    {
     "data": {
      "text/html": [
       "<div>\n",
       "<style scoped>\n",
       "    .dataframe tbody tr th:only-of-type {\n",
       "        vertical-align: middle;\n",
       "    }\n",
       "\n",
       "    .dataframe tbody tr th {\n",
       "        vertical-align: top;\n",
       "    }\n",
       "\n",
       "    .dataframe thead th {\n",
       "        text-align: right;\n",
       "    }\n",
       "</style>\n",
       "<table border=\"1\" class=\"dataframe\">\n",
       "  <thead>\n",
       "    <tr style=\"text-align: right;\">\n",
       "      <th></th>\n",
       "      <th>Country</th>\n",
       "      <th>Rate</th>\n",
       "    </tr>\n",
       "  </thead>\n",
       "  <tbody>\n",
       "    <tr>\n",
       "      <th>0</th>\n",
       "      <td>AED</td>\n",
       "      <td>4.388497</td>\n",
       "    </tr>\n",
       "    <tr>\n",
       "      <th>1</th>\n",
       "      <td>AFN</td>\n",
       "      <td>92.713219</td>\n",
       "    </tr>\n",
       "    <tr>\n",
       "      <th>2</th>\n",
       "      <td>ALL</td>\n",
       "      <td>123.241097</td>\n",
       "    </tr>\n",
       "    <tr>\n",
       "      <th>3</th>\n",
       "      <td>AMD</td>\n",
       "      <td>620.604242</td>\n",
       "    </tr>\n",
       "    <tr>\n",
       "      <th>4</th>\n",
       "      <td>ANG</td>\n",
       "      <td>2.144613</td>\n",
       "    </tr>\n",
       "    <tr>\n",
       "      <th>...</th>\n",
       "      <td>...</td>\n",
       "      <td>...</td>\n",
       "    </tr>\n",
       "    <tr>\n",
       "      <th>163</th>\n",
       "      <td>YER</td>\n",
       "      <td>299.083040</td>\n",
       "    </tr>\n",
       "    <tr>\n",
       "      <th>164</th>\n",
       "      <td>ZAR</td>\n",
       "      <td>17.343361</td>\n",
       "    </tr>\n",
       "    <tr>\n",
       "      <th>165</th>\n",
       "      <td>ZMK</td>\n",
       "      <td>10754.448500</td>\n",
       "    </tr>\n",
       "    <tr>\n",
       "      <th>166</th>\n",
       "      <td>ZMW</td>\n",
       "      <td>26.493839</td>\n",
       "    </tr>\n",
       "    <tr>\n",
       "      <th>167</th>\n",
       "      <td>ZWL</td>\n",
       "      <td>384.719012</td>\n",
       "    </tr>\n",
       "  </tbody>\n",
       "</table>\n",
       "<p>168 rows × 2 columns</p>\n",
       "</div>"
      ],
      "text/plain": [
       "    Country          Rate\n",
       "0       AED      4.388497\n",
       "1       AFN     92.713219\n",
       "2       ALL    123.241097\n",
       "3       AMD    620.604242\n",
       "4       ANG      2.144613\n",
       "..      ...           ...\n",
       "163     YER    299.083040\n",
       "164     ZAR     17.343361\n",
       "165     ZMK  10754.448500\n",
       "166     ZMW     26.493839\n",
       "167     ZWL    384.719012\n",
       "\n",
       "[168 rows x 2 columns]"
      ]
     },
     "execution_count": 67,
     "metadata": {},
     "output_type": "execute_result"
    }
   ],
   "source": [
    "#Adding data in DataFrame\n",
    "import numpy as np\n",
    "data = []\n",
    "for i in rates:\n",
    "    data.append([i, rates[i]])\n",
    "df = pd.DataFrame(data = data, columns = [\"Country\", \"Rate\"])\n",
    "df"
   ]
  },
  {
   "cell_type": "code",
   "execution_count": null,
   "metadata": {},
   "outputs": [],
   "source": []
  }
 ],
 "metadata": {
  "kernelspec": {
   "display_name": "Python 3",
   "language": "python",
   "name": "python3"
  },
  "language_info": {
   "codemirror_mode": {
    "name": "ipython",
    "version": 3
   },
   "file_extension": ".py",
   "mimetype": "text/x-python",
   "name": "python",
   "nbconvert_exporter": "python",
   "pygments_lexer": "ipython3",
   "version": "3.7.1"
  }
 },
 "nbformat": 4,
 "nbformat_minor": 4
}
